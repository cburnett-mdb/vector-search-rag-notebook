{
 "cells": [
  {
   "cell_type": "markdown",
   "id": "b5032137",
   "metadata": {
    "slideshow": {
     "slide_type": "skip"
    }
   },
   "source": [
    "<img src=\"https://cdn-assets-cloud.frontify.com/local/frontify/eyJwYXRoIjoiXC9wdWJsaWNcL3VwbG9hZFwvc2NyZWVuc1wvMTk3OTA0XC80M2ZmNTdhYjc4OTdlZjUzY2IzMWUwNGU0MTVjZTY2NC0xNTYyMTAzMDk0LnBuZyJ9:frontify:7CTV2DtJsWvlctEUEyFK36JoXsZuVtHssMaDED6O5z0\" width='150' />\n",
    "\n",
    "# VECTOR SEARCH - RETRIEVAL AUGMENTED GENERATION"
   ]
  },
  {
   "cell_type": "code",
   "execution_count": null,
   "id": "ef810b58",
   "metadata": {
    "slideshow": {
     "slide_type": "skip"
    }
   },
   "outputs": [],
   "source": [
    "import ipywidgets as widgets\n",
    "import os\n",
    "\n",
    "mongodb_uri_widget = os.environ['MONGODB_URI']\n",
    "openai_api_key_widget = os.environ['OPENAI_API_KEY']"
   ]
  },
  {
   "cell_type": "markdown",
   "id": "b6c3bdf5",
   "metadata": {
    "slideshow": {
     "slide_type": "slide"
    }
   },
   "source": [
    "# Retrieval Augmented Generation\n",
    "### Using MongoDB Atlas, OpenAI and LangChain"
   ]
  },
  {
   "cell_type": "code",
   "execution_count": null,
   "id": "88ce891f",
   "metadata": {
    "slideshow": {
     "slide_type": "fragment"
    }
   },
   "outputs": [],
   "source": [
    "from IPython.display import IFrame\n",
    "\n",
    "PDF_URI = 'https://webassets.mongodb.com/MongoDB_Best_Practices_Guide.pdf'\n",
    "IFrame(PDF_URI, width=1280, height=500)"
   ]
  },
  {
   "cell_type": "markdown",
   "id": "7fffd967",
   "metadata": {
    "slideshow": {
     "slide_type": "slide"
    }
   },
   "source": [
    "# Get connection to MongoDB Atlas"
   ]
  },
  {
   "cell_type": "code",
   "execution_count": null,
   "id": "e99c8377-2475-4e5d-b94a-b4e80bc8ce87",
   "metadata": {
    "slideshow": {
     "slide_type": "fragment"
    }
   },
   "outputs": [],
   "source": [
    "from pymongo import MongoClient\n",
    "import os\n",
    "\n",
    "mongo_db_name = 'rag_demo'\n",
    "mongo_coll_name = 'content'\n",
    "\n",
    "mongo_client = MongoClient(mongodb_uri_widget.value)\n",
    "mongo_coll = mongo_client[mongo_db_name][mongo_coll_name]\n",
    "mongo_db_and_coll_path = '{}.{}'.format(mongo_db_name, mongo_coll_name)\n",
    "\n",
    "doc_count = mongo_coll.count_documents({})\n",
    "'{} document count is {:,}'.format(mongo_db_and_coll_path, doc_count)"
   ]
  },
  {
   "cell_type": "code",
   "execution_count": null,
   "id": "a9933ee6",
   "metadata": {
    "slideshow": {
     "slide_type": "skip"
    }
   },
   "outputs": [],
   "source": [
    "# Delete existing documents -- run before demo\n",
    "mongo_coll.delete_many({})"
   ]
  },
  {
   "cell_type": "markdown",
   "id": "1cdf4297",
   "metadata": {
    "slideshow": {
     "slide_type": "slide"
    }
   },
   "source": [
    "# Select embeddings/transformer model"
   ]
  },
  {
   "cell_type": "code",
   "execution_count": null,
   "id": "1fc7b0b4-19c9-4965-8491-dcda400e32e3",
   "metadata": {
    "slideshow": {
     "slide_type": "fragment"
    }
   },
   "outputs": [],
   "source": [
    "from langchain.embeddings import OpenAIEmbeddings\n",
    "\n",
    "embeddings_model = OpenAIEmbeddings(\n",
    "    model='text-embedding-ada-002',\n",
    "    openai_api_key=openai_api_key_widget.value\n",
    ")\n",
    "\n",
    "print('Max token length is 8,191')"
   ]
  },
  {
   "cell_type": "markdown",
   "id": "f344cf95",
   "metadata": {
    "slideshow": {
     "slide_type": "slide"
    }
   },
   "source": [
    "# Split PDF into chunks"
   ]
  },
  {
   "cell_type": "code",
   "execution_count": null,
   "id": "a1008c71-2762-4162-852f-b351bff1a6dc",
   "metadata": {
    "slideshow": {
     "slide_type": "fragment"
    }
   },
   "outputs": [],
   "source": [
    "from langchain.document_loaders import PyPDFLoader\n",
    "\n",
    "loader = PyPDFLoader(PDF_URI)\n",
    "chunked_docs = loader.load_and_split()\n",
    "\n",
    "'PDF has resulted in {:,} chunks'.format(len(chunked_docs))"
   ]
  },
  {
   "cell_type": "code",
   "execution_count": null,
   "id": "c716f036",
   "metadata": {
    "slideshow": {
     "slide_type": "fragment"
    }
   },
   "outputs": [],
   "source": [
    "biggest_chunk_length = max(len(chunk.page_content.split()) for chunk in chunked_docs)\n",
    "'The biggest chunk contains {:,} words'.format(biggest_chunk_length)"
   ]
  },
  {
   "cell_type": "markdown",
   "id": "998a216a",
   "metadata": {
    "slideshow": {
     "slide_type": "slide"
    }
   },
   "source": [
    "# Create vectors and add to MongoDB Atlas"
   ]
  },
  {
   "cell_type": "code",
   "execution_count": null,
   "id": "339402be",
   "metadata": {
    "slideshow": {
     "slide_type": "fragment"
    }
   },
   "outputs": [],
   "source": [
    "from langchain.vectorstores import MongoDBAtlasVectorSearch\n",
    "\n",
    "vector_db = MongoDBAtlasVectorSearch.from_documents(\n",
    "    chunked_docs,\n",
    "    embeddings_model,\n",
    "    collection=mongo_coll\n",
    ")"
   ]
  },
  {
   "cell_type": "code",
   "execution_count": null,
   "id": "fdb1bf89",
   "metadata": {
    "slideshow": {
     "slide_type": "fragment"
    }
   },
   "outputs": [],
   "source": [
    "doc_count = mongo_coll.count_documents({})\n",
    "'MongoDB document count in {} is {:,}'.format(mongo_db_and_coll_path, doc_count)"
   ]
  },
  {
   "cell_type": "markdown",
   "id": "aa68054b",
   "metadata": {
    "slideshow": {
     "slide_type": "slide"
    }
   },
   "source": [
    "# Create MongoDB Atlas vector search index"
   ]
  },
  {
   "cell_type": "code",
   "execution_count": null,
   "id": "e6448a3d-424b-4e09-bed9-ce59839ba76f",
   "metadata": {
    "slideshow": {
     "slide_type": "fragment"
    }
   },
   "outputs": [],
   "source": [
    "from pymongo.errors import OperationFailure\n",
    "import inspect\n",
    "\n",
    "mongo_index_def = {\n",
    "    'name': 'rag_demo_index',\n",
    "    'definition': {\n",
    "        'mappings': {\n",
    "            'dynamic': True,\n",
    "            'fields': {\n",
    "                'embedding': {\n",
    "                    'type': 'knnVector',\n",
    "                    'dimensions': 1536,\n",
    "                    'similarity': 'cosine'\n",
    "                }\n",
    "            }\n",
    "        }\n",
    "    }\n",
    "}\n",
    "\n",
    "try:\n",
    "    mongo_coll.create_search_index(mongo_index_def)\n",
    "    print('Search index is building')\n",
    "except OperationFailure as e:\n",
    "    print(e.details['codeName'])"
   ]
  },
  {
   "cell_type": "markdown",
   "id": "b687504a",
   "metadata": {
    "slideshow": {
     "slide_type": "slide"
    }
   },
   "source": [
    "# Create a LangChain handle for the vector search index"
   ]
  },
  {
   "cell_type": "code",
   "execution_count": null,
   "id": "ddc9d39f-73d6-4916-8d2f-2d051e225834",
   "metadata": {
    "slideshow": {
     "slide_type": "fragment"
    }
   },
   "outputs": [],
   "source": [
    "vector_db = MongoDBAtlasVectorSearch.from_connection_string(\n",
    "    mongodb_uri_widget.value,\n",
    "    mongo_db_and_coll_path,\n",
    "    embeddings_model,\n",
    "    index_name='rag_demo_index'\n",
    ")"
   ]
  },
  {
   "cell_type": "markdown",
   "id": "98758bb4",
   "metadata": {
    "slideshow": {
     "slide_type": "slide"
    }
   },
   "source": [
    "# Setup question function"
   ]
  },
  {
   "cell_type": "code",
   "execution_count": null,
   "id": "dc392dd9-a6e9-4359-ab6a-76b96b464c38",
   "metadata": {
    "slideshow": {
     "slide_type": "fragment"
    }
   },
   "outputs": [],
   "source": [
    "from langchain.chains import ConversationalRetrievalChain\n",
    "from langchain.schema.document import Document\n",
    "from langchain.chat_models import ChatOpenAI\n",
    "\n",
    "llm_model = ChatOpenAI(\n",
    "    model_name='gpt-4-1106-preview',\n",
    "    temperature=0.0,\n",
    "    openai_api_key=openai_api_key_widget.value\n",
    ")\n",
    "\n",
    "pdf_qa = ConversationalRetrievalChain.from_llm(\n",
    "    llm_model,\n",
    "    vector_db.as_retriever(),\n",
    "    return_source_documents=True\n",
    ")\n",
    "\n",
    "def ask_question(question):\n",
    "    result = pdf_qa({'question': question, 'chat_history': []})\n",
    "    print(\"Answer:{}\\n\".format(result.get('answer')))\n",
    "    print('Chunks from Atlas Vector Search used for context:')\n",
    "    \n",
    "    for chunk in result.get('source_documents'):\n",
    "        id = chunk.metadata['_id']\n",
    "        page = chunk.metadata['page']\n",
    "        print('ObjectId({}) | page {:,}'.format(id, page))"
   ]
  },
  {
   "cell_type": "code",
   "execution_count": null,
   "id": "8ba90311",
   "metadata": {
    "slideshow": {
     "slide_type": "skip"
    }
   },
   "outputs": [],
   "source": [
    "# To use a different LLM, change the above llm_model definition\n",
    "\n",
    "# For GPT 3.5:\n",
    "# from langchain.llms import OpenAI\n",
    "#\n",
    "# llm_model = OpenAI(\n",
    "#     model_name='text-davinci-003',\n",
    "#     temperature=0.0,\n",
    "#     openai_api_key=openai_api_key_widget.value\n",
    "# )\n",
    "\n",
    "# For GPT 3.5 Turbo:\n",
    "# from langchain.chat_models import ChatOpenAI\n",
    "#\n",
    "# llm_model = ChatOpenAI(\n",
    "#     model_name='gpt-3.5-turbo',\n",
    "#     temperature=0.0,\n",
    "#     openai_api_key=openai_api_key_widget.value\n",
    "# )\n",
    "\n",
    "# For GPT 4:\n",
    "# from langchain.chat_models import ChatOpenAI\n",
    "#\n",
    "# llm_model = ChatOpenAI(\n",
    "#     model_name='gpt-4',\n",
    "#     temperature=0.0,\n",
    "#     openai_api_key=openai_api_key_widget.value\n",
    "# )\n",
    "\n",
    "# For GPT 4 Turbo Preview (limited to 100 reqs per day):\n",
    "# from langchain.chat_models import ChatOpenAI\n",
    "#\n",
    "# llm_model = ChatOpenAI(\n",
    "#     model_name='gpt-4-1106-preview',\n",
    "#     temperature=0.0,\n",
    "#     openai_api_key=openai_api_key_widget.value\n",
    "# )"
   ]
  },
  {
   "cell_type": "markdown",
   "id": "eb3718d4",
   "metadata": {
    "slideshow": {
     "slide_type": "slide"
    }
   },
   "source": [
    "# Start asking questions"
   ]
  },
  {
   "cell_type": "code",
   "execution_count": null,
   "id": "3d458db5",
   "metadata": {
    "slideshow": {
     "slide_type": "fragment"
    }
   },
   "outputs": [],
   "source": [
    "ask_question(\"How do I choose an instance size for MongoDB?\")"
   ]
  },
  {
   "cell_type": "code",
   "execution_count": null,
   "id": "e799fac6",
   "metadata": {
    "slideshow": {
     "slide_type": "fragment"
    }
   },
   "outputs": [],
   "source": [
    "ask_question(\"When should I use Compass?\")"
   ]
  },
  {
   "cell_type": "code",
   "execution_count": null,
   "id": "4c0d342a",
   "metadata": {
    "slideshow": {
     "slide_type": "fragment"
    }
   },
   "outputs": [],
   "source": [
    "ask_question(\"How should I optimize query performance?\")"
   ]
  },
  {
   "cell_type": "code",
   "execution_count": null,
   "id": "74a35606",
   "metadata": {
    "slideshow": {
     "slide_type": "skip"
    }
   },
   "outputs": [],
   "source": [
    "# Use this cell to show that the majority of time spent waiting is due to the LLM, not Atlas Vector Search\n",
    "\n",
    "import time\n",
    "\n",
    "search_vector = embeddings_model.embed_query(\"How should I optimize query performance?\")\n",
    "\n",
    "before_time = time.perf_counter()\n",
    "cursor = mongo_coll.aggregate([\n",
    "    {\n",
    "        \"$vectorSearch\": {\n",
    "            \"index\": \"rag_demo_index\",\n",
    "            \"path\": \"embedding\",\n",
    "            \"queryVector\": search_vector,\n",
    "            \"numCandidates\": 100,\n",
    "            \"limit\": 4\n",
    "        }\n",
    "    },\n",
    "    {\n",
    "        \"$project\": {\n",
    "            \"_id\": 1,\n",
    "            \"page\": 1,\n",
    "        }\n",
    "    }\n",
    "])\n",
    "vector_search_ms = int((time.perf_counter() - before_time) * 1_000)\n",
    "print('Atlas Vector Search roundtrip took {} ms'.format(vector_search_ms))\n",
    "list(cursor)"
   ]
  }
 ],
 "metadata": {
  "celltoolbar": "Slideshow",
  "kernelspec": {
   "display_name": "Python 3 (ipykernel)",
   "language": "python",
   "name": "python3"
  },
  "language_info": {
   "codemirror_mode": {
    "name": "ipython",
    "version": 3
   },
   "file_extension": ".py",
   "mimetype": "text/x-python",
   "name": "python",
   "nbconvert_exporter": "python",
   "pygments_lexer": "ipython3",
   "version": "3.11.6"
  },
  "rise": {
   "controls": false,
   "footer": "<img class=\"logomark\" src=\"rise/MongoDB_Logomark_ForestGreen.svg\" />",
   "scroll": true,
   "slideNumber": "c/t"
  }
 },
 "nbformat": 4,
 "nbformat_minor": 5
}
